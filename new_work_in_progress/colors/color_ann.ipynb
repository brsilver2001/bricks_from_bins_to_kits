{
 "cells": [
  {
   "cell_type": "markdown",
   "metadata": {},
   "source": [
    "## This is the first exploration of taking zones from lego pictures and estimating the closest lego colors"
   ]
  },
  {
   "cell_type": "code",
   "execution_count": 1,
   "metadata": {
    "collapsed": false
   },
   "outputs": [],
   "source": [
    "import pandas as pd\n",
    "import numpy as np\n",
    "import picture_stuff as pix\n",
    "%matplotlib inline\n",
    "import matplotlib.pyplot as plt"
   ]
  },
  {
   "cell_type": "code",
   "execution_count": 2,
   "metadata": {
    "collapsed": true
   },
   "outputs": [],
   "source": [
    "# Implement the function cosine_distance which computes a cosine-similarity-based distance between\n",
    "# two numpy arrays.\n",
    "\n",
    "def cosine_distance(x,y):\n",
    "    #return x.dot(y)/(np.linalg.norm(x,axis=1)/np.linalg.norm(y))\n",
    "    return x.dot(y)/(np.linalg.norm(x)/np.linalg.norm(y))"
   ]
  },
  {
   "cell_type": "code",
   "execution_count": 3,
   "metadata": {
    "collapsed": true
   },
   "outputs": [],
   "source": [
    "# Implement the function euclidean_distance which computes\n",
    "# the Euclidean distance between two numpy arrays.\n",
    "\n",
    "def euclidean_distance(x,y):\n",
    "    #return np.sqrt(np.sum((x-y)**2,axis=1))\n",
    "    return np.sqrt(np.sum((x-y)**2))"
   ]
  },
  {
   "cell_type": "code",
   "execution_count": 4,
   "metadata": {
    "collapsed": false
   },
   "outputs": [
    {
     "name": "stdout",
     "output_type": "stream",
     "text": [
      "[0 3]\n",
      "[0 1]\n",
      "2.0\n",
      "1.0\n"
     ]
    }
   ],
   "source": [
    "xx=np.array([0,3])\n",
    "yy=np.array([0,1])\n",
    "print xx\n",
    "print yy\n",
    "#cosine_distance(np.array([[0,1]]),np.array([[1,1]]))\n",
    "print euclidean_distance(xx,yy)\n",
    "print cosine_distance(xx,yy)"
   ]
  },
  {
   "cell_type": "code",
   "execution_count": 5,
   "metadata": {
    "collapsed": false
   },
   "outputs": [],
   "source": [
    "# Colors from http://www.peeron.com/cgi-bin/invcgis/colorguide.cgi\n",
    "# and see also http://www.bartneck.de/2016/09/09/the-curious-case-of-lego-colors/\n",
    "df_colors = pd.read_csv(\"peeron_colors.csv\")"
   ]
  },
  {
   "cell_type": "code",
   "execution_count": 6,
   "metadata": {
    "collapsed": false
   },
   "outputs": [
    {
     "data": {
      "text/html": [
       "<div>\n",
       "<style>\n",
       "    .dataframe thead tr:only-child th {\n",
       "        text-align: right;\n",
       "    }\n",
       "\n",
       "    .dataframe thead th {\n",
       "        text-align: left;\n",
       "    }\n",
       "\n",
       "    .dataframe tbody tr th {\n",
       "        vertical-align: top;\n",
       "    }\n",
       "</style>\n",
       "<table border=\"1\" class=\"dataframe\">\n",
       "  <thead>\n",
       "    <tr style=\"text-align: right;\">\n",
       "      <th></th>\n",
       "      <th>LEGO No.</th>\n",
       "      <th>Color</th>\n",
       "      <th>C</th>\n",
       "      <th>M</th>\n",
       "      <th>Y</th>\n",
       "      <th>K</th>\n",
       "      <th>R</th>\n",
       "      <th>G</th>\n",
       "      <th>B</th>\n",
       "      <th>Pantone</th>\n",
       "    </tr>\n",
       "  </thead>\n",
       "  <tbody>\n",
       "    <tr>\n",
       "      <th>5</th>\n",
       "      <td>9</td>\n",
       "      <td>Light reddish violet</td>\n",
       "      <td>0</td>\n",
       "      <td>33</td>\n",
       "      <td>8</td>\n",
       "      <td>0</td>\n",
       "      <td>232</td>\n",
       "      <td>186</td>\n",
       "      <td>199</td>\n",
       "      <td>203 C</td>\n",
       "    </tr>\n",
       "    <tr>\n",
       "      <th>8</th>\n",
       "      <td>21</td>\n",
       "      <td>Bright red</td>\n",
       "      <td>0</td>\n",
       "      <td>100</td>\n",
       "      <td>100</td>\n",
       "      <td>0</td>\n",
       "      <td>196</td>\n",
       "      <td>40</td>\n",
       "      <td>27</td>\n",
       "      <td>032 C</td>\n",
       "    </tr>\n",
       "    <tr>\n",
       "      <th>9</th>\n",
       "      <td>22</td>\n",
       "      <td>Med. reddish violet</td>\n",
       "      <td>10</td>\n",
       "      <td>72</td>\n",
       "      <td>0</td>\n",
       "      <td>0</td>\n",
       "      <td>196</td>\n",
       "      <td>112</td>\n",
       "      <td>160</td>\n",
       "      <td>2375 C</td>\n",
       "    </tr>\n",
       "    <tr>\n",
       "      <th>22</th>\n",
       "      <td>100</td>\n",
       "      <td>Light red</td>\n",
       "      <td>0</td>\n",
       "      <td>27</td>\n",
       "      <td>24</td>\n",
       "      <td>0</td>\n",
       "      <td>238</td>\n",
       "      <td>196</td>\n",
       "      <td>182</td>\n",
       "      <td>169 C</td>\n",
       "    </tr>\n",
       "    <tr>\n",
       "      <th>23</th>\n",
       "      <td>101</td>\n",
       "      <td>Medium red</td>\n",
       "      <td>0</td>\n",
       "      <td>60</td>\n",
       "      <td>50</td>\n",
       "      <td>0</td>\n",
       "      <td>218</td>\n",
       "      <td>134</td>\n",
       "      <td>121</td>\n",
       "      <td>170 C</td>\n",
       "    </tr>\n",
       "    <tr>\n",
       "      <th>39</th>\n",
       "      <td>123</td>\n",
       "      <td>Br. reddish orange</td>\n",
       "      <td>0</td>\n",
       "      <td>72</td>\n",
       "      <td>80</td>\n",
       "      <td>0</td>\n",
       "      <td>211</td>\n",
       "      <td>111</td>\n",
       "      <td>76</td>\n",
       "      <td>165 C</td>\n",
       "    </tr>\n",
       "    <tr>\n",
       "      <th>40</th>\n",
       "      <td>124</td>\n",
       "      <td>Bright reddish violet</td>\n",
       "      <td>33</td>\n",
       "      <td>95</td>\n",
       "      <td>8</td>\n",
       "      <td>5</td>\n",
       "      <td>146</td>\n",
       "      <td>57</td>\n",
       "      <td>120</td>\n",
       "      <td>241 C</td>\n",
       "    </tr>\n",
       "    <tr>\n",
       "      <th>58</th>\n",
       "      <td>153</td>\n",
       "      <td>Sand red</td>\n",
       "      <td>37</td>\n",
       "      <td>54</td>\n",
       "      <td>48</td>\n",
       "      <td>10</td>\n",
       "      <td>149</td>\n",
       "      <td>121</td>\n",
       "      <td>118</td>\n",
       "      <td>4995 C</td>\n",
       "    </tr>\n",
       "    <tr>\n",
       "      <th>59</th>\n",
       "      <td>154</td>\n",
       "      <td>Dark red</td>\n",
       "      <td>45</td>\n",
       "      <td>100</td>\n",
       "      <td>90</td>\n",
       "      <td>11</td>\n",
       "      <td>123</td>\n",
       "      <td>46</td>\n",
       "      <td>47</td>\n",
       "      <td>194 C</td>\n",
       "    </tr>\n",
       "    <tr>\n",
       "      <th>66</th>\n",
       "      <td>193</td>\n",
       "      <td>Flame reddish orange</td>\n",
       "      <td>0</td>\n",
       "      <td>79</td>\n",
       "      <td>100</td>\n",
       "      <td>0</td>\n",
       "      <td>207</td>\n",
       "      <td>96</td>\n",
       "      <td>36</td>\n",
       "      <td>173 C</td>\n",
       "    </tr>\n",
       "    <tr>\n",
       "      <th>70</th>\n",
       "      <td>198</td>\n",
       "      <td>Bright reddish lilac</td>\n",
       "      <td>40</td>\n",
       "      <td>90</td>\n",
       "      <td>0</td>\n",
       "      <td>0</td>\n",
       "      <td>142</td>\n",
       "      <td>66</td>\n",
       "      <td>133</td>\n",
       "      <td>254 C</td>\n",
       "    </tr>\n",
       "    <tr>\n",
       "      <th>101</th>\n",
       "      <td>113</td>\n",
       "      <td>Tr. Medi. reddish violet</td>\n",
       "      <td>0</td>\n",
       "      <td>40</td>\n",
       "      <td>0</td>\n",
       "      <td>0</td>\n",
       "      <td>228</td>\n",
       "      <td>173</td>\n",
       "      <td>200</td>\n",
       "      <td>230 C</td>\n",
       "    </tr>\n",
       "  </tbody>\n",
       "</table>\n",
       "</div>"
      ],
      "text/plain": [
       "     LEGO No.                     Color   C    M    Y   K    R    G    B  \\\n",
       "5           9      Light reddish violet   0   33    8   0  232  186  199   \n",
       "8          21                Bright red   0  100  100   0  196   40   27   \n",
       "9          22       Med. reddish violet  10   72    0   0  196  112  160   \n",
       "22        100                 Light red   0   27   24   0  238  196  182   \n",
       "23        101                Medium red   0   60   50   0  218  134  121   \n",
       "39        123        Br. reddish orange   0   72   80   0  211  111   76   \n",
       "40        124     Bright reddish violet  33   95    8   5  146   57  120   \n",
       "58        153                  Sand red  37   54   48  10  149  121  118   \n",
       "59        154                  Dark red  45  100   90  11  123   46   47   \n",
       "66        193      Flame reddish orange   0   79  100   0  207   96   36   \n",
       "70        198      Bright reddish lilac  40   90    0   0  142   66  133   \n",
       "101       113  Tr. Medi. reddish violet   0   40    0   0  228  173  200   \n",
       "\n",
       "    Pantone  \n",
       "5     203 C  \n",
       "8     032 C  \n",
       "9    2375 C  \n",
       "22    169 C  \n",
       "23    170 C  \n",
       "39    165 C  \n",
       "40    241 C  \n",
       "58   4995 C  \n",
       "59    194 C  \n",
       "66    173 C  \n",
       "70    254 C  \n",
       "101   230 C  "
      ]
     },
     "execution_count": 6,
     "metadata": {},
     "output_type": "execute_result"
    }
   ],
   "source": [
    "df_colors[df_colors['Color'].str.contains('red')]"
   ]
  },
  {
   "cell_type": "code",
   "execution_count": 7,
   "metadata": {
    "collapsed": false
   },
   "outputs": [],
   "source": [
    "X  = np.array(df_colors[['R','G','B']].astype('int'))\n",
    "y  = np.array(df_colors['Color'])\n",
    "ys = np.array(df_colors['LEGO No.'].astype('int'))"
   ]
  },
  {
   "cell_type": "code",
   "execution_count": 9,
   "metadata": {
    "collapsed": false
   },
   "outputs": [],
   "source": [
    "# Other color set:\n",
    "curr_dir = '../../rebrickable data/2017-09/'\n",
    "colors = pd.read_csv(curr_dir + 'colors.csv')"
   ]
  },
  {
   "cell_type": "code",
   "execution_count": 10,
   "metadata": {
    "collapsed": false
   },
   "outputs": [
    {
     "name": "stdout",
     "output_type": "stream",
     "text": [
      "Rebrickable color file       135 rows\n",
      "Peerson color file           111 rows\n"
     ]
    }
   ],
   "source": [
    "print \"Rebrickable color file  {:8} rows\".format(colors.shape[0])\n",
    "print \"Peerson color file      {:8} rows\".format(len(y))"
   ]
  },
  {
   "cell_type": "code",
   "execution_count": 11,
   "metadata": {
    "collapsed": false
   },
   "outputs": [
    {
     "data": {
      "text/html": [
       "<div>\n",
       "<style>\n",
       "    .dataframe thead tr:only-child th {\n",
       "        text-align: right;\n",
       "    }\n",
       "\n",
       "    .dataframe thead th {\n",
       "        text-align: left;\n",
       "    }\n",
       "\n",
       "    .dataframe tbody tr th {\n",
       "        vertical-align: top;\n",
       "    }\n",
       "</style>\n",
       "<table border=\"1\" class=\"dataframe\">\n",
       "  <thead>\n",
       "    <tr style=\"text-align: right;\">\n",
       "      <th></th>\n",
       "      <th>id</th>\n",
       "      <th>name</th>\n",
       "      <th>rgb</th>\n",
       "      <th>is_trans</th>\n",
       "    </tr>\n",
       "  </thead>\n",
       "  <tbody>\n",
       "    <tr>\n",
       "      <th>5</th>\n",
       "      <td>4</td>\n",
       "      <td>Red</td>\n",
       "      <td>C91A09</td>\n",
       "      <td>f</td>\n",
       "    </tr>\n",
       "    <tr>\n",
       "      <th>35</th>\n",
       "      <td>36</td>\n",
       "      <td>Trans-Red</td>\n",
       "      <td>C91A09</td>\n",
       "      <td>t</td>\n",
       "    </tr>\n",
       "    <tr>\n",
       "      <th>53</th>\n",
       "      <td>70</td>\n",
       "      <td>Reddish Brown</td>\n",
       "      <td>582A12</td>\n",
       "      <td>f</td>\n",
       "    </tr>\n",
       "    <tr>\n",
       "      <th>109</th>\n",
       "      <td>320</td>\n",
       "      <td>Dark Red</td>\n",
       "      <td>720E0F</td>\n",
       "      <td>f</td>\n",
       "    </tr>\n",
       "    <tr>\n",
       "      <th>115</th>\n",
       "      <td>335</td>\n",
       "      <td>Sand Red</td>\n",
       "      <td>D67572</td>\n",
       "      <td>f</td>\n",
       "    </tr>\n",
       "    <tr>\n",
       "      <th>133</th>\n",
       "      <td>1007</td>\n",
       "      <td>Reddish Lilac</td>\n",
       "      <td>8E5597</td>\n",
       "      <td>f</td>\n",
       "    </tr>\n",
       "  </tbody>\n",
       "</table>\n",
       "</div>"
      ],
      "text/plain": [
       "       id           name     rgb is_trans\n",
       "5       4            Red  C91A09        f\n",
       "35     36      Trans-Red  C91A09        t\n",
       "53     70  Reddish Brown  582A12        f\n",
       "109   320       Dark Red  720E0F        f\n",
       "115   335       Sand Red  D67572        f\n",
       "133  1007  Reddish Lilac  8E5597        f"
      ]
     },
     "execution_count": 11,
     "metadata": {},
     "output_type": "execute_result"
    }
   ],
   "source": [
    "colors[colors['name'].str.contains('Red')]"
   ]
  },
  {
   "cell_type": "code",
   "execution_count": 12,
   "metadata": {
    "collapsed": true
   },
   "outputs": [],
   "source": [
    "def knn_dists(new_color,colors,distance=euclidean_distance,n_match=5):\n",
    "    distances = np.zeros(len(colors))  \n",
    "    for idx in range(len(colors)):\n",
    "        distances[idx]=distance(new_color,colors[idx])\n",
    "    return np.argsort(distances)[:n_match]"
   ]
  },
  {
   "cell_type": "code",
   "execution_count": 13,
   "metadata": {
    "collapsed": false
   },
   "outputs": [
    {
     "name": "stdout",
     "output_type": "stream",
     "text": [
      "[55 13 50 49 90]\n",
      "[array([22, 29, 50]), array([27, 42, 52]), array([39, 70, 44]), array([32, 58, 86]), array([ 52,  43, 117])]\n",
      "['Black metallic', 'Black', 'Earth green', 'Earth blue', 'Medium lilac']\n",
      "[149, 26, 141, 140, 268]\n"
     ]
    }
   ],
   "source": [
    "test_idx = 23\n",
    "#NOTE: idx=3: Brick yellow, idx=5: Light reddish violet, idx=23: Medium red\n",
    "\n",
    "closest = knn_dists(X[test_idx],X,distance=cosine_distance)\n",
    "\n",
    "result_colors = []\n",
    "result_names = []\n",
    "result_indices = []\n",
    "for idx in closest:\n",
    "    result_colors.append(X[idx])\n",
    "    result_names.append(y[idx])\n",
    "    result_indices.append(ys[idx])\n",
    "\n",
    "print closest\n",
    "print result_colors\n",
    "print result_names\n",
    "print result_indices"
   ]
  },
  {
   "cell_type": "code",
   "execution_count": null,
   "metadata": {
    "collapsed": true
   },
   "outputs": [],
   "source": []
  },
  {
   "cell_type": "markdown",
   "metadata": {},
   "source": [
    "### Load a picture, and select 9 regions in it for color comparison"
   ]
  },
  {
   "cell_type": "code",
   "execution_count": 20,
   "metadata": {
    "collapsed": true
   },
   "outputs": [],
   "source": [
    "picpath = \"../../brick_pics_mine/\"\n",
    "pic_list = [\"3031-019.jpeg\",\"3032-002.jpeg\",\"3298-001.jpeg\",\"3795-001.jpeg\"]\n",
    "#pic_list = [\"3031-019.jpeg\"]"
   ]
  },
  {
   "cell_type": "code",
   "execution_count": 15,
   "metadata": {
    "collapsed": true
   },
   "outputs": [],
   "source": [
    "def choose_region(image,ranges):\n",
    "    return_pics = []\n",
    "    for imrange in ranges:\n",
    "        subset = image_filter(image,imrange)\n",
    "        ave_color = average_color(subset)\n",
    "        return_pics.append(subset)\n",
    "    return return_pics"
   ]
  },
  {
   "cell_type": "code",
   "execution_count": 16,
   "metadata": {
    "collapsed": true
   },
   "outputs": [],
   "source": [
    "def image_filter(image,pix_range):\n",
    "    '''returns the pixel from an image given min/max positions\n",
    "    '''\n",
    "    x_min = pix_range[0]\n",
    "    x_max = pix_range[1]\n",
    "    y_min = pix_range[2]\n",
    "    y_max = pix_range[3]\n",
    "    print x_min,x_max,y_min,y_max\n",
    "    subset = image[x_min:x_max,y_min:y_max]\n",
    "    return subset"
   ]
  },
  {
   "cell_type": "code",
   "execution_count": 17,
   "metadata": {
    "collapsed": true
   },
   "outputs": [],
   "source": [
    "def set_ranges(x_size=299,y_size=299,\n",
    "               x_from_center=.15,y_from_center=.15,\n",
    "               x_span=10,y_span=10):\n",
    "    '''Define 9 ranges within each range of pixels\n",
    "       INPUTS: x_size=299,y_size=299: size of image\n",
    "               x_from_center=.1,y_from_center=.1: fractional distance\n",
    "                 from center for each off-center blob\n",
    "               x_span=10,y_span=10: number of pixels in each range\n",
    "       OUTPUTS: pix_ranges: list of lists [[x_min,xmax,y_min,y_max]]\n",
    "    '''\n",
    "    pix_ranges = []\n",
    "    # Specify the lower left corner of each box\n",
    "    left_x = int((x_size - x_span)/2)\n",
    "    lower_y = int((y_size - y_span)/2)\n",
    "    \n",
    "    # Convert percentages from center to pixel steps\n",
    "    step_x = int(x_size * x_from_center)\n",
    "    step_y = int(y_size * y_from_center)\n",
    "\n",
    "    for idx_x in range(-1,2):\n",
    "        for idx_y in range(-1,2):\n",
    "            pix_ranges.append([left_x + idx_x*step_x, left_x + idx_x*step_x + x_span,\n",
    "                               lower_y + idx_y*step_y, lower_y + idx_y*step_y + y_span])\n",
    "    return pix_ranges"
   ]
  },
  {
   "cell_type": "code",
   "execution_count": 18,
   "metadata": {
    "collapsed": false
   },
   "outputs": [],
   "source": [
    "def average_color(subset):\n",
    "    pass"
   ]
  },
  {
   "cell_type": "code",
   "execution_count": 22,
   "metadata": {
    "collapsed": false
   },
   "outputs": [
    {
     "ename": "IOError",
     "evalue": "[Errno 2] No such file or directory: '../../brick_pics_mine/3031-019.jpeg'",
     "output_type": "error",
     "traceback": [
      "\u001b[0;31m---------------------------------------------------------------------------\u001b[0m",
      "\u001b[0;31mIOError\u001b[0m                                   Traceback (most recent call last)",
      "\u001b[0;32m<ipython-input-22-f0f1d833dbec>\u001b[0m in \u001b[0;36m<module>\u001b[0;34m()\u001b[0m\n\u001b[1;32m      3\u001b[0m \u001b[0;32mfor\u001b[0m \u001b[0midx\u001b[0m\u001b[0;34m,\u001b[0m\u001b[0mpic\u001b[0m \u001b[0;32min\u001b[0m \u001b[0menumerate\u001b[0m\u001b[0;34m(\u001b[0m\u001b[0mpic_list\u001b[0m\u001b[0;34m)\u001b[0m\u001b[0;34m:\u001b[0m\u001b[0;34m\u001b[0m\u001b[0m\n\u001b[1;32m      4\u001b[0m     \u001b[0mimage_path\u001b[0m \u001b[0;34m=\u001b[0m \u001b[0mpicpath\u001b[0m \u001b[0;34m+\u001b[0m \u001b[0mpic\u001b[0m\u001b[0;34m\u001b[0m\u001b[0m\n\u001b[0;32m----> 5\u001b[0;31m     \u001b[0mpic_pixels\u001b[0m \u001b[0;34m=\u001b[0m \u001b[0mpix\u001b[0m\u001b[0;34m.\u001b[0m\u001b[0mget_image\u001b[0m\u001b[0;34m(\u001b[0m\u001b[0mimage_path\u001b[0m\u001b[0;34m)\u001b[0m\u001b[0;34m.\u001b[0m\u001b[0mastype\u001b[0m\u001b[0;34m(\u001b[0m\u001b[0;34m'float64'\u001b[0m\u001b[0;34m)\u001b[0m\u001b[0;34m\u001b[0m\u001b[0m\n\u001b[0m\u001b[1;32m      6\u001b[0m     \u001b[0max\u001b[0m\u001b[0;34m[\u001b[0m\u001b[0midx\u001b[0m\u001b[0;34m]\u001b[0m\u001b[0;34m.\u001b[0m\u001b[0mimshow\u001b[0m\u001b[0;34m(\u001b[0m\u001b[0mpic_pixels\u001b[0m\u001b[0;34m)\u001b[0m\u001b[0;34m\u001b[0m\u001b[0m\n",
      "\u001b[0;32m/Users/deborahwilliams/Documents/Galvanize/DSI_class/CAPSTONE/lego-database/bricks_from_bins_to_kits/new_work_in_progress/colors/picture_stuff.pyc\u001b[0m in \u001b[0;36mget_image\u001b[0;34m(image_path, image_default_size)\u001b[0m\n\u001b[1;32m     27\u001b[0m        \u001b[0mOUTPUT\u001b[0m\u001b[0;34m:\u001b[0m \u001b[0mnumpy\u001b[0m \u001b[0marray\u001b[0m \u001b[0mof\u001b[0m \u001b[0mimage\u001b[0m \u001b[0mpixels\u001b[0m\u001b[0;34m\u001b[0m\u001b[0m\n\u001b[1;32m     28\u001b[0m     \"\"\"\n\u001b[0;32m---> 29\u001b[0;31m     \u001b[0mimage\u001b[0m \u001b[0;34m=\u001b[0m \u001b[0mImage\u001b[0m\u001b[0;34m.\u001b[0m\u001b[0mopen\u001b[0m\u001b[0;34m(\u001b[0m\u001b[0mimage_path\u001b[0m\u001b[0;34m,\u001b[0m \u001b[0;34m'r'\u001b[0m\u001b[0;34m)\u001b[0m\u001b[0;34m\u001b[0m\u001b[0m\n\u001b[0m\u001b[1;32m     30\u001b[0m     \u001b[0mwidth\u001b[0m\u001b[0;34m,\u001b[0m \u001b[0mheight\u001b[0m \u001b[0;34m=\u001b[0m \u001b[0mimage\u001b[0m\u001b[0;34m.\u001b[0m\u001b[0msize\u001b[0m\u001b[0;34m\u001b[0m\u001b[0m\n\u001b[1;32m     31\u001b[0m     \u001b[0;32mif\u001b[0m \u001b[0;34m(\u001b[0m\u001b[0mwidth\u001b[0m \u001b[0;34m!=\u001b[0m \u001b[0mimage_default_size\u001b[0m\u001b[0;34m)\u001b[0m \u001b[0;32mor\u001b[0m \u001b[0;34m(\u001b[0m\u001b[0mheight\u001b[0m \u001b[0;34m!=\u001b[0m \u001b[0mimage_default_size\u001b[0m\u001b[0;34m)\u001b[0m\u001b[0;34m:\u001b[0m\u001b[0;34m\u001b[0m\u001b[0m\n",
      "\u001b[0;32m/Users/deborahwilliams/anaconda/lib/python2.7/site-packages/PIL/Image.pyc\u001b[0m in \u001b[0;36mopen\u001b[0;34m(fp, mode)\u001b[0m\n\u001b[1;32m   2475\u001b[0m \u001b[0;34m\u001b[0m\u001b[0m\n\u001b[1;32m   2476\u001b[0m     \u001b[0;32mif\u001b[0m \u001b[0mfilename\u001b[0m\u001b[0;34m:\u001b[0m\u001b[0;34m\u001b[0m\u001b[0m\n\u001b[0;32m-> 2477\u001b[0;31m         \u001b[0mfp\u001b[0m \u001b[0;34m=\u001b[0m \u001b[0mbuiltins\u001b[0m\u001b[0;34m.\u001b[0m\u001b[0mopen\u001b[0m\u001b[0;34m(\u001b[0m\u001b[0mfilename\u001b[0m\u001b[0;34m,\u001b[0m \u001b[0;34m\"rb\"\u001b[0m\u001b[0;34m)\u001b[0m\u001b[0;34m\u001b[0m\u001b[0m\n\u001b[0m\u001b[1;32m   2478\u001b[0m         \u001b[0mexclusive_fp\u001b[0m \u001b[0;34m=\u001b[0m \u001b[0mTrue\u001b[0m\u001b[0;34m\u001b[0m\u001b[0m\n\u001b[1;32m   2479\u001b[0m \u001b[0;34m\u001b[0m\u001b[0m\n",
      "\u001b[0;31mIOError\u001b[0m: [Errno 2] No such file or directory: '../../brick_pics_mine/3031-019.jpeg'"
     ]
    },
    {
     "data": {
      "image/png": "[encoded data removed]",
      "text/plain": [
       "<matplotlib.figure.Figure at 0x1157c4bd0>"
      ]
     },
     "metadata": {},
     "output_type": "display_data"
    }
   ],
   "source": [
    "fig, ax = plt.subplots(1,len(pic_list),figsize=(6,6))\n",
    "\n",
    "for idx,pic in enumerate(pic_list):\n",
    "    image_path = picpath + pic\n",
    "    pic_pixels = pix.get_image(image_path).astype('float64')\n",
    "    ax[idx].imshow(pic_pixels)"
   ]
  },
  {
   "cell_type": "code",
   "execution_count": null,
   "metadata": {
    "collapsed": false
   },
   "outputs": [],
   "source": [
    "ranges = set_ranges()\n",
    "image_path = picpath + pic_list[0]\n",
    "pic_pixels = pix.get_image(image_path).astype('float64')\n",
    "plt.imshow(pic_pixels)\n",
    "regions = choose_region(pic_pixels,ranges)\n",
    "print [regions[idx].shape for idx in range(len(regions))]"
   ]
  }
 ],
 "metadata": {
  "kernelspec": {
   "display_name": "Python 2",
   "language": "python",
   "name": "python2"
  },
  "language_info": {
   "codemirror_mode": {
    "name": "ipython",
    "version": 2
   },
   "file_extension": ".py",
   "mimetype": "text/x-python",
   "name": "python",
   "nbconvert_exporter": "python",
   "pygments_lexer": "ipython2",
   "version": "2.7.13"
  }
 },
 "nbformat": 4,
 "nbformat_minor": 2
}
