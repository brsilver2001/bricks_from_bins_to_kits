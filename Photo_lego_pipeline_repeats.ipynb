{
 "cells": [
  {
   "cell_type": "markdown",
   "metadata": {},
   "source": [
    "#### NOTE: may need to re-shoot pictures of 3001,3002,3003,3005,3022,3622,3666,4445"
   ]
  },
  {
   "cell_type": "code",
   "execution_count": null,
   "metadata": {
    "collapsed": true
   },
   "outputs": [],
   "source": [
    "import app_stuff.src.picture_stuff as pix\n",
    "import numpy as np\n",
    "from PIL import Image, ImageOps\n",
    "import os.path\n",
    "\n",
    "%matplotlib inline\n",
    "import matplotlib.pyplot as plt"
   ]
  },
  {
   "cell_type": "code",
   "execution_count": null,
   "metadata": {
    "collapsed": false
   },
   "outputs": [],
   "source": [
    "image_dims = 299\n",
    "scale_vals = (image_dims,image_dims)\n",
    "border_percent = .3\n",
    "\n",
    "camera = pix.initialize_camera()"
   ]
  },
  {
   "cell_type": "code",
   "execution_count": null,
   "metadata": {
    "collapsed": false
   },
   "outputs": [],
   "source": [
    "keep_shooting = True\n",
    "while keep_shooting:\n",
    "\n",
    "    # Input a file name = brick shape: e.g. 3021\n",
    "    pic_label = raw_input('Type label (file name):')\n",
    "    extension = 1\n",
    "    same_brick = True\n",
    "    \n",
    "    while same_brick:\n",
    "        extension, filename = pix.increment_filename(pic_label,extension)\n",
    "\n",
    "        # Shoot picture, crop and scale\n",
    "        pic = pix.shoot_pic(camera)\n",
    "        im = Image.fromarray(pic)\n",
    "        newpic = ImageOps.fit(im, scale_vals, Image.ANTIALIAS,\n",
    "                              border_percent, (.5,.5))\n",
    "        np_newpic = np.array(newpic)\n",
    "        fig, ax = plt.subplots(1,figsize=(8,8))\n",
    "        ax.imshow(np_newpic[:,:,::-1], cmap=plt.cm.gray_r, interpolation=\"nearest\")\n",
    "        ax.grid(False)\n",
    "        plt.show();\n",
    "        \n",
    "        next_action = raw_input(\n",
    "            'Enter 0:reshoot, 1:next brick, q:quit, any other:save and shoot another')\n",
    "        if next_action in ['q','Q','quit']:\n",
    "            keep_shooting = False\n",
    "            same_brick = False\n",
    "        if next_action not in ['0','1','q','Q','quit']:\n",
    "            pix.save_pic(filename,np_newpic)\n",
    "            extension +=1    \n",
    "        if next_action == '1':\n",
    "            same_brick = False"
   ]
  },
  {
   "cell_type": "code",
   "execution_count": null,
   "metadata": {
    "collapsed": true
   },
   "outputs": [],
   "source": [
    "# At the end of it all, release the camera\n",
    "del(camera)"
   ]
  }
 ],
 "metadata": {
  "kernelspec": {
   "display_name": "Python 2",
   "language": "python",
   "name": "python2"
  },
  "language_info": {
   "codemirror_mode": {
    "name": "ipython",
    "version": 2
   },
   "file_extension": ".py",
   "mimetype": "text/x-python",
   "name": "python",
   "nbconvert_exporter": "python",
   "pygments_lexer": "ipython2",
   "version": "2.7.13"
  }
 },
 "nbformat": 4,
 "nbformat_minor": 2
}
