{
 "cells": [
  {
   "cell_type": "markdown",
   "metadata": {},
   "source": [
    "## This file:\n",
    " 1) Loads a pickled batch of brick pictures  \n",
    " 2) Loads a trained Keras-TensorFlow model basd on InceptionV3  \n",
    " 3) Takes 1 new picture  \n",
    " 4) Runs the pictures through the model to make predictions  \n",
    " 5) Displays pictures from the original batch matching predictions"
   ]
  },
  {
   "cell_type": "markdown",
   "metadata": {},
   "source": [
    "### connection among all the dictionaries:\n",
    "0) label_dic comes from model training set: label_dic[idx] == label  \n",
    "1) predict_gen is a model prediction: weights in order of label_dic index  \n",
    "2) prediction_list and prediction_weights give you the sorted results of each prediction  \n",
    "2a) prediction_list --> preds and  prediction_weights --> weights  \n",
    "3) picture_index_lookup[pred] lets you associate the prediction with the exemplar pictures"
   ]
  },
  {
   "cell_type": "code",
   "execution_count": null,
   "metadata": {
    "collapsed": false
   },
   "outputs": [],
   "source": [
    "%matplotlib inline\n",
    "import matplotlib.pyplot as plt\n",
    "plt.style.use('ggplot')\n",
    "\n",
    "#from PIL import Image\n",
    "import numpy as np\n",
    "\n",
    "#from keras.models import load_model\n",
    "\n",
    "import src.picture_stuff as pix\n",
    "\n",
    "import load_and_go as ld"
   ]
  },
  {
   "cell_type": "code",
   "execution_count": null,
   "metadata": {
    "collapsed": false
   },
   "outputs": [],
   "source": [
    "# This cell copied from main in load_and_go.py\n",
    "\n",
    "use_gray = True\n",
    "X,y_list = ld.load_examples(\"data/\",use_gray)\n",
    "filepath = 'saved_models/'\n",
    "model = ld.load_keras_model(filepath, use_gray)\n",
    "label_dic = ld.load_label_dictionary(filepath, use_gray)\n",
    "\n",
    "image_dims = 299\n",
    "border_fraction = .3\n",
    "\n",
    "picture_index_lookup = pix.picture_index_function(y_list)\n"
   ]
  },
  {
   "cell_type": "markdown",
   "metadata": {},
   "source": [
    "### To repeat and shoot/classify more bricks, \"run all below\" from here"
   ]
  },
  {
   "cell_type": "code",
   "execution_count": null,
   "metadata": {
    "collapsed": false,
    "scrolled": true
   },
   "outputs": [],
   "source": [
    "camera = pix.initialize_camera()\n",
    "\n",
    "# Input a file name = brick shape: e.g. 3021\n",
    "pic_label = raw_input('Type label (integer as file name):')\n",
    "\n",
    "extension, filename = pix.increment_filename(pic_label,extension=1)\n",
    "\n",
    "one_pic_X = pix.keep_shooting_until_acceptable(camera,filename)\n",
    "del(camera)"
   ]
  },
  {
   "cell_type": "code",
   "execution_count": null,
   "metadata": {
    "collapsed": false,
    "scrolled": true
   },
   "outputs": [],
   "source": [
    "predict_gen = model.predict_on_batch(np.expand_dims(one_pic_X,axis=0))"
   ]
  },
  {
   "cell_type": "code",
   "execution_count": null,
   "metadata": {
    "collapsed": true
   },
   "outputs": [],
   "source": [
    "preds, weights = pix.make_one_prediction_list(\n",
    "    predict_gen,label_dic,n_match=10)\n",
    "\n",
    "idx_preds = [picture_index_lookup[pred] for pred in preds]"
   ]
  },
  {
   "cell_type": "code",
   "execution_count": null,
   "metadata": {
    "collapsed": false,
    "scrolled": true
   },
   "outputs": [],
   "source": [
    "ld.plot_top_8(one_pic_X,pic_label,X,idx_preds,preds,weights);"
   ]
  }
 ],
 "metadata": {
  "kernelspec": {
   "display_name": "Python 2",
   "language": "python",
   "name": "python2"
  },
  "language_info": {
   "codemirror_mode": {
    "name": "ipython",
    "version": 2
   },
   "file_extension": ".py",
   "mimetype": "text/x-python",
   "name": "python",
   "nbconvert_exporter": "python",
   "pygments_lexer": "ipython2",
   "version": "2.7.13"
  }
 },
 "nbformat": 4,
 "nbformat_minor": 2
}
