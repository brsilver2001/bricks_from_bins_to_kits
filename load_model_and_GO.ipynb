{
 "cells": [
  {
   "cell_type": "markdown",
   "metadata": {},
   "source": [
    "### This file:\n",
    "Has been moved since the last time it ran, and probably needs updates to file locations"
   ]
  },
  {
   "cell_type": "markdown",
   "metadata": {},
   "source": [
    "## This file:\n",
    " 1) Loads a pickled batch of brick pictures  \n",
    " 2) Loads a trained Keras-TensorFlow model basd on InceptionV3  \n",
    " 3) Takes 1 new picture  \n",
    " 4) Runs the pictures through the model to make predictions  \n",
    " 5) Displays pictures from the original batch matching predictions"
   ]
  },
  {
   "cell_type": "code",
   "execution_count": null,
   "metadata": {
    "collapsed": false
   },
   "outputs": [],
   "source": [
    "%matplotlib inline\n",
    "import matplotlib.pyplot as plt\n",
    "plt.style.use('ggplot')\n",
    "\n",
    "from PIL import Image, ImageOps\n",
    "import numpy as np\n",
    "\n",
    "#import os\n",
    "import cPickle as pickle\n",
    "from src import picture_stuff as pix\n",
    "\n",
    "from keras.models import load_model"
   ]
  },
  {
   "cell_type": "code",
   "execution_count": null,
   "metadata": {
    "collapsed": false
   },
   "outputs": [],
   "source": [
    "use_gray = True"
   ]
  },
  {
   "cell_type": "markdown",
   "metadata": {},
   "source": [
    "### PART 1: Load pickled data files"
   ]
  },
  {
   "cell_type": "code",
   "execution_count": null,
   "metadata": {
    "collapsed": true
   },
   "outputs": [],
   "source": [
    "with open(\"data/X_examples.pkl\") as f_un:\n",
    "    X = pickle.load(f_un)\n",
    "\n",
    "if use_gray:\n",
    "    X = pix.convert_to_gray(X)\n",
    "\n",
    "with open(\"data/y_examples_list.pkl\") as f_un:\n",
    "    y_list = pickle.load(f_un)"
   ]
  },
  {
   "cell_type": "code",
   "execution_count": null,
   "metadata": {
    "collapsed": true
   },
   "outputs": [],
   "source": [
    "picture_index_lookup = {}\n",
    "for idx,label in enumerate(y_list):\n",
    "    picture_index_lookup[label]=idx"
   ]
  },
  {
   "cell_type": "code",
   "execution_count": null,
   "metadata": {
    "collapsed": false
   },
   "outputs": [],
   "source": [
    "label_dic_dummy,y_hot = pix.y_to_hot(y_list)"
   ]
  },
  {
   "cell_type": "markdown",
   "metadata": {},
   "source": [
    "### PART 2: Load pickled Keras-TensorFlow Convolutional Neural Network model"
   ]
  },
  {
   "cell_type": "markdown",
   "metadata": {},
   "source": [
    "### NOTE: BEFORE LOADING MODEL, CHECK WHICH MODEL VERSION IS NEWEST"
   ]
  },
  {
   "cell_type": "code",
   "execution_count": null,
   "metadata": {
    "collapsed": false
   },
   "outputs": [],
   "source": [
    "filepath = '../saved_models/'\n",
    "if use_gray:\n",
    "    with open(filepath + \"label_dic-gray.pkl\") as f_un:\n",
    "        label_dic = pickle.load(f_un)\n",
    "    #fname = filepath + 'keras_inception_all_partially_trained_gray.h5'\n",
    "    #fname = filepath + 'keras_inception_all_trained_gray.h5'\n",
    "    fname = filepath + 'keras_example_inception_trained-gray.h5'\n",
    "else:\n",
    "    with open(filepath + \"label_dic.pkl\") as f_un:\n",
    "        label_dic = pickle.load(f_un)\n",
    "    fname = filepath + 'keras_example_inception_trained-copy2.h5'\n",
    "\n",
    "model = load_model(fname)"
   ]
  },
  {
   "cell_type": "code",
   "execution_count": null,
   "metadata": {
    "collapsed": false
   },
   "outputs": [],
   "source": [
    "# DOES label_dic == label_dic_dummy???\n",
    "for key in label_dic.keys():\n",
    "    if label_dic[key] != label_dic_dummy[key]:\n",
    "        print key, label_dic[key], label_dic_dummy[key]"
   ]
  },
  {
   "cell_type": "markdown",
   "metadata": {},
   "source": [
    "### PART 3: shoot a picture of a brick"
   ]
  },
  {
   "cell_type": "code",
   "execution_count": null,
   "metadata": {
    "collapsed": true
   },
   "outputs": [],
   "source": [
    "image_dims = 299\n",
    "scale_vals = (image_dims,image_dims)\n",
    "border_percent = .3"
   ]
  },
  {
   "cell_type": "markdown",
   "metadata": {},
   "source": [
    "### To repeat and shoot/classify more bricks, \"run all below\" from here"
   ]
  },
  {
   "cell_type": "code",
   "execution_count": null,
   "metadata": {
    "collapsed": false
   },
   "outputs": [],
   "source": [
    "camera = pix.initialize_camera()\n",
    "\n",
    "# Input a file name = brick shape: e.g. 3021\n",
    "pic_label = raw_input('Type label (integer as file name):')\n",
    "extension = 1\n",
    "extension, filename = pix.increment_filename(pic_label,extension)\n",
    "\n",
    "\n",
    "keep_shooting = True\n",
    "while keep_shooting:\n",
    "\n",
    "    # Shoot picture, crop and scale\n",
    "    pic = pix.shoot_pic(camera)\n",
    "    if use_gray:\n",
    "        pic = pix.convert_to_gray(pic)\n",
    "    im = Image.fromarray(pic)\n",
    "    newpic = ImageOps.fit(im, scale_vals, Image.ANTIALIAS,\n",
    "                          border_percent, (.5,.5))\n",
    "    np_newpic = np.array(newpic)\n",
    "    fig, ax = plt.subplots(1,figsize=(8,8))\n",
    "    ax.imshow(np_newpic[:,:,::-1], cmap=plt.cm.gray_r, interpolation=\"nearest\")\n",
    "    ax.grid(False)\n",
    "    plt.show();\n",
    "\n",
    "    next_action = raw_input('Enter 0:reshoot, any other:save')\n",
    "\n",
    "    if next_action != '0':\n",
    "        pix.save_pic(filename,np_newpic)\n",
    "        one_pic_X = np_newpic\n",
    "        one_pic_y = [pic_label]\n",
    "        keep_shooting = False\n",
    "\n",
    "if use_gray:\n",
    "    one_pic_X = pix.convert_to_gray(one_pic_X)\n",
    "del(camera)"
   ]
  },
  {
   "cell_type": "markdown",
   "metadata": {},
   "source": [
    "### PART 4: predictions on new brick picture"
   ]
  },
  {
   "cell_type": "code",
   "execution_count": null,
   "metadata": {
    "collapsed": false
   },
   "outputs": [],
   "source": [
    "one_predict_gen = model.predict_on_batch(np.expand_dims(one_pic_X,axis=0))\n",
    "\n",
    "small_prediction_list, small_prediction_weights = pix.make_full_prediction_list(\n",
    "    one_predict_gen,label_dic,n_match=5)"
   ]
  },
  {
   "cell_type": "code",
   "execution_count": null,
   "metadata": {
    "collapsed": false
   },
   "outputs": [],
   "source": [
    "preds = small_prediction_list[0]\n",
    "\n",
    "idx_preds = [picture_index_lookup[pred] for pred in preds]\n",
    "#act_pic = one_pic_X\n",
    "\n",
    "print \"label for this item {}\".format(one_pic_y)\n",
    "print \"Top 5 predictions \", preds"
   ]
  },
  {
   "cell_type": "code",
   "execution_count": null,
   "metadata": {
    "collapsed": false
   },
   "outputs": [],
   "source": [
    "fig, ax = plt.subplots(1,figsize=(12,10))\n",
    "\n",
    "ax1 = plt.subplot2grid((2, 4), (0, 0), colspan=2)\n",
    "ax1.imshow(Image.fromarray(one_pic_X[:,:,::-1]))\n",
    "\n",
    "ax1.set_title(\"new brick pic\")\n",
    "ax1.grid(False)\n",
    "ax1.axis('off')\n",
    "\n",
    "for idx1 in range(2):\n",
    "    ax2 = plt.subplot2grid((4, 4), (0,idx1+2))\n",
    "    ax2.imshow(Image.fromarray(X[idx_preds[idx1]]))\n",
    "    ax2.set_title(\"brick {} at {:.1f}%\".format(y_list[idx_preds[idx1]],100*small_prediction_weights[0][idx1]))\n",
    "    ax2.grid(False)\n",
    "    ax2.axis('off')\n",
    "    \n",
    "    ax3 = plt.subplot2grid((4, 4), (1,idx1+2))\n",
    "    ax3.imshow(Image.fromarray(X[idx_preds[idx1+2]]))\n",
    "    ax3.set_title(\"brick {} at {:.1f}%\".format(y_list[idx_preds[idx1+2]],100*small_prediction_weights[0][idx1+2]))\n",
    "    ax3.grid(False)\n",
    "    ax3.axis('off')\n",
    "\n",
    "# If you like the figure, save it!\n",
    "picfilename = (\"saved_brick_predictions/\" + str(pic_label) + \"_temp.png\")\n",
    "with open(picfilename, 'wb') as whatever:\n",
    "    fig.savefig(whatever)"
   ]
  }
 ],
 "metadata": {
  "kernelspec": {
   "display_name": "Python 2",
   "language": "python",
   "name": "python2"
  },
  "language_info": {
   "codemirror_mode": {
    "name": "ipython",
    "version": 2
   },
   "file_extension": ".py",
   "mimetype": "text/x-python",
   "name": "python",
   "nbconvert_exporter": "python",
   "pygments_lexer": "ipython2",
   "version": "2.7.13"
  }
 },
 "nbformat": 4,
 "nbformat_minor": 2
}
